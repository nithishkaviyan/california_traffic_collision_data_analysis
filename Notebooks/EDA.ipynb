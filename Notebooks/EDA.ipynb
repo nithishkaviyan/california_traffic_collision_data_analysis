{
 "cells": [
  {
   "cell_type": "code",
   "execution_count": 35,
   "metadata": {},
   "outputs": [],
   "source": [
    "## Load packages\n",
    "import sqlite3\n",
    "import pandas as pd\n",
    "import seaborn as sns\n",
    "import matplotlib.pyplot as plt"
   ]
  },
  {
   "cell_type": "code",
   "execution_count": 2,
   "metadata": {},
   "outputs": [],
   "source": [
    "## Connect to SQLite db\n",
    "db_connect = sqlite3.connect('switrs.sqlite')"
   ]
  },
  {
   "cell_type": "code",
   "execution_count": 7,
   "metadata": {},
   "outputs": [
    {
     "data": {
      "text/html": [
       "<div>\n",
       "<style scoped>\n",
       "    .dataframe tbody tr th:only-of-type {\n",
       "        vertical-align: middle;\n",
       "    }\n",
       "\n",
       "    .dataframe tbody tr th {\n",
       "        vertical-align: top;\n",
       "    }\n",
       "\n",
       "    .dataframe thead th {\n",
       "        text-align: right;\n",
       "    }\n",
       "</style>\n",
       "<table border=\"1\" class=\"dataframe\">\n",
       "  <thead>\n",
       "    <tr style=\"text-align: right;\">\n",
       "      <th></th>\n",
       "      <th>case_id</th>\n",
       "      <th>collision_date</th>\n",
       "      <th>pedestrian_injured_count</th>\n",
       "      <th>pedestrian_killed_count</th>\n",
       "    </tr>\n",
       "  </thead>\n",
       "  <tbody>\n",
       "    <tr>\n",
       "      <th>0</th>\n",
       "      <td>3514981</td>\n",
       "      <td>2008-01-04</td>\n",
       "      <td>1</td>\n",
       "      <td>0</td>\n",
       "    </tr>\n",
       "    <tr>\n",
       "      <th>1</th>\n",
       "      <td>3514991</td>\n",
       "      <td>2008-01-03</td>\n",
       "      <td>1</td>\n",
       "      <td>0</td>\n",
       "    </tr>\n",
       "    <tr>\n",
       "      <th>2</th>\n",
       "      <td>3516596</td>\n",
       "      <td>2008-01-08</td>\n",
       "      <td>1</td>\n",
       "      <td>0</td>\n",
       "    </tr>\n",
       "    <tr>\n",
       "      <th>3</th>\n",
       "      <td>3516629</td>\n",
       "      <td>2008-01-05</td>\n",
       "      <td>1</td>\n",
       "      <td>0</td>\n",
       "    </tr>\n",
       "    <tr>\n",
       "      <th>4</th>\n",
       "      <td>3516972</td>\n",
       "      <td>2008-01-15</td>\n",
       "      <td>1</td>\n",
       "      <td>0</td>\n",
       "    </tr>\n",
       "  </tbody>\n",
       "</table>\n",
       "</div>"
      ],
      "text/plain": [
       "   case_id collision_date  pedestrian_injured_count  pedestrian_killed_count\n",
       "0  3514981     2008-01-04                         1                        0\n",
       "1  3514991     2008-01-03                         1                        0\n",
       "2  3516596     2008-01-08                         1                        0\n",
       "3  3516629     2008-01-05                         1                        0\n",
       "4  3516972     2008-01-15                         1                        0"
      ]
     },
     "execution_count": 7,
     "metadata": {},
     "output_type": "execute_result"
    }
   ],
   "source": [
    "## Explore Collisions Table\n",
    "sql_query = 'SELECT case_id, collision_date, pedestrian_injured_count, pedestrian_killed_count FROM collisions WHERE pedestrian_injured_count > 0 OR pedestrian_killed_count > 0'\n",
    "collisions_df = pd.read_sql(sql_query, db_connect)\n",
    "collisions_df.head()"
   ]
  },
  {
   "cell_type": "markdown",
   "metadata": {},
   "source": [
    "## On what days are pedestrians involved in collision"
   ]
  },
  {
   "cell_type": "code",
   "execution_count": null,
   "metadata": {},
   "outputs": [],
   "source": [
    "## Pull collisions records which has pedestrians injured and/or killed\n",
    "sql_query = 'SELECT case_id, collision_date, pedestrian_injured_count, pedestrian_killed_count FROM collisions WHERE pedestrian_injured_count > 0 OR pedestrian_killed_count > 0'\n",
    "collisions_df = pd.read_sql(sql_query, db_connect)\n",
    "collisions_df.collision_date = pd.to_datetime(collisions_df.collision_date)\n",
    "collisions_df.head()"
   ]
  },
  {
   "cell_type": "code",
   "execution_count": 16,
   "metadata": {},
   "outputs": [
    {
     "data": {
      "text/plain": [
       "4    43206\n",
       "2    40609\n",
       "1    40291\n",
       "3    40117\n",
       "0    37969\n",
       "5    33546\n",
       "6    27216\n",
       "Name: day_of_week, dtype: int64"
      ]
     },
     "execution_count": 16,
     "metadata": {},
     "output_type": "execute_result"
    }
   ],
   "source": [
    "## Find which day of week pedestrians were affected\n",
    "collisions_df.loc[:,'day_of_week'] = collisions_df.collision_date.dt.dayofweek\n",
    "collisions_df.day_of_week.value_counts()"
   ]
  },
  {
   "cell_type": "code",
   "execution_count": 33,
   "metadata": {},
   "outputs": [
    {
     "data": {
      "text/html": [
       "<div>\n",
       "<style scoped>\n",
       "    .dataframe tbody tr th:only-of-type {\n",
       "        vertical-align: middle;\n",
       "    }\n",
       "\n",
       "    .dataframe tbody tr th {\n",
       "        vertical-align: top;\n",
       "    }\n",
       "\n",
       "    .dataframe thead th {\n",
       "        text-align: right;\n",
       "    }\n",
       "</style>\n",
       "<table border=\"1\" class=\"dataframe\">\n",
       "  <thead>\n",
       "    <tr style=\"text-align: right;\">\n",
       "      <th></th>\n",
       "      <th>day</th>\n",
       "      <th>count</th>\n",
       "    </tr>\n",
       "  </thead>\n",
       "  <tbody>\n",
       "    <tr>\n",
       "      <th>0</th>\n",
       "      <td>Monday</td>\n",
       "      <td>37969</td>\n",
       "    </tr>\n",
       "    <tr>\n",
       "      <th>1</th>\n",
       "      <td>Tuesday</td>\n",
       "      <td>40291</td>\n",
       "    </tr>\n",
       "    <tr>\n",
       "      <th>2</th>\n",
       "      <td>Wednesday</td>\n",
       "      <td>40609</td>\n",
       "    </tr>\n",
       "    <tr>\n",
       "      <th>3</th>\n",
       "      <td>Thursday</td>\n",
       "      <td>40117</td>\n",
       "    </tr>\n",
       "    <tr>\n",
       "      <th>4</th>\n",
       "      <td>Friday</td>\n",
       "      <td>43206</td>\n",
       "    </tr>\n",
       "    <tr>\n",
       "      <th>5</th>\n",
       "      <td>Saturday</td>\n",
       "      <td>33546</td>\n",
       "    </tr>\n",
       "    <tr>\n",
       "      <th>6</th>\n",
       "      <td>Sunday</td>\n",
       "      <td>27216</td>\n",
       "    </tr>\n",
       "  </tbody>\n",
       "</table>\n",
       "</div>"
      ],
      "text/plain": [
       "         day  count\n",
       "0     Monday  37969\n",
       "1    Tuesday  40291\n",
       "2  Wednesday  40609\n",
       "3   Thursday  40117\n",
       "4     Friday  43206\n",
       "5   Saturday  33546\n",
       "6     Sunday  27216"
      ]
     },
     "execution_count": 33,
     "metadata": {},
     "output_type": "execute_result"
    }
   ],
   "source": [
    "## Plot the results in a bar chart (perform some pre-processing steps before that)\n",
    "day_of_week_map_dict = {0: 'Monday', 1: 'Tuesday', 2: 'Wednesday', 3: 'Thursday', 4: 'Friday', 5: 'Saturday', 6: 'Sunday'}\n",
    "pedestrians_day_df = collisions_df.day_of_week.value_counts().sort_index().reset_index()\n",
    "pedestrians_day_df.rename(columns={'index':'day', 'day_of_week':'count'}, inplace=True)\n",
    "pedestrians_day_df.day = pedestrians_day_df.day.map(lambda x: day_of_week_map_dict[x])\n",
    "pedestrians_day_df"
   ]
  },
  {
   "cell_type": "code",
   "execution_count": 39,
   "metadata": {},
   "outputs": [
    {
     "data": {
      "image/png": "[encoded data removed]",
      "text/plain": [
       "<Figure size 432x288 with 1 Axes>"
      ]
     },
     "metadata": {
      "needs_background": "light"
     },
     "output_type": "display_data"
    }
   ],
   "source": [
    "sns.barplot(x='day', y='count', data=pedestrians_day_df)\n",
    "plt.xticks(rotation=90)\n",
    "plt.xlabel('Day of Week')\n",
    "plt.title('Daywise distribution of pedestrians getting injured')\n",
    "plt.show()"
   ]
  }
 ],
 "metadata": {
  "kernelspec": {
   "display_name": "cali_traffic_env",
   "language": "python",
   "name": "cali_traffic_env"
  },
  "language_info": {
   "codemirror_mode": {
    "name": "ipython",
    "version": 3
   },
   "file_extension": ".py",
   "mimetype": "text/x-python",
   "name": "python",
   "nbconvert_exporter": "python",
   "pygments_lexer": "ipython3",
   "version": "3.7.0"
  }
 },
 "nbformat": 4,
 "nbformat_minor": 4
}
